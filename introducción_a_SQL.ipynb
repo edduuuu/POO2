{
  "nbformat": 4,
  "nbformat_minor": 0,
  "metadata": {
    "colab": {
      "provenance": [],
      "authorship_tag": "ABX9TyOvuKuNMGBfbUT07BuUv/N6",
      "include_colab_link": true
    },
    "kernelspec": {
      "name": "python3",
      "display_name": "Python 3"
    },
    "language_info": {
      "name": "python"
    }
  },
  "cells": [
    {
      "cell_type": "markdown",
      "metadata": {
        "id": "view-in-github",
        "colab_type": "text"
      },
      "source": [
        "<a href=\"https://colab.research.google.com/github/edduuuu/POO2/blob/main/introducci%C3%B3n_a_SQL.ipynb\" target=\"_parent\"><img src=\"https://colab.research.google.com/assets/colab-badge.svg\" alt=\"Open In Colab\"/></a>"
      ]
    },
    {
      "cell_type": "code",
      "execution_count": null,
      "metadata": {
        "id": "VBiNBK_d4H9L"
      },
      "outputs": [],
      "source": []
    },
    {
      "cell_type": "markdown",
      "source": [
        "El lenguaje de consulta estructurada (SQL) es un lenguaje de consulta popular que se usa con frecuencia en todos los tipos de aplicaciones. Los analistas y desarrolladores de datos aprenden y usan SQL porque se integra bien con los diferentes lenguajes de programación.\n",
        "\n",
        "para que te sirve y como lo imaginas que lo puedes usar en tu carrera?\n",
        "sirve para trabajar con las bases de datos y me puede servir para trabajar con los diferentes datos de la empresa\n",
        "\n",
        "que librerías hay en Google Colab\n",
        "\n",
        "\n",
        "*   sqlite\n",
        "*   Elemento de lista\n",
        "\n"
      ],
      "metadata": {
        "id": "g50NuoxF5CmU"
      }
    },
    {
      "cell_type": "code",
      "source": [
        "import sqlite3"
      ],
      "metadata": {
        "id": "pg8uEUT68y9x"
      },
      "execution_count": 1,
      "outputs": []
    },
    {
      "cell_type": "code",
      "source": [
        "con = sqlite3.connect(\"libros_db.sqlite\")\n",
        "cursor = con.cursor()\n",
        "cursor.execute('''\n",
        "               CREATE TABLE Libros (\n",
        "                id INTEGER PRIMARY KEY,\n",
        "                titulo TEXT NOT NULL,\n",
        "                autor TEXT NOT NULL,\n",
        "                año INTEGER\n",
        "               )\n",
        "\n",
        "''')\n"
      ],
      "metadata": {
        "colab": {
          "base_uri": "https://localhost:8080/"
        },
        "id": "-JoZJ7Fs_azF",
        "outputId": "db388b08-df4d-4700-a77c-c44d585b0217"
      },
      "execution_count": 3,
      "outputs": [
        {
          "output_type": "execute_result",
          "data": {
            "text/plain": [
              "<sqlite3.Cursor at 0x78fadd4a4d40>"
            ]
          },
          "metadata": {},
          "execution_count": 3
        }
      ]
    },
    {
      "cell_type": "code",
      "source": [
        "libros_datos= [(\"Harry Potter\", \"J.K.R\", 1997),\n",
        "               (\"The Hobbit\", \"Tolkien\", 1937),\n",
        "               (\"Better than the Movies\", \"Lynn Painter\", 2021),\n",
        "               (\"La Sombra de Viento\", \"Carlos Ruiz Zafón\", 2001)]\n",
        "cursor.executemany(\"\"\"\n",
        "INSERT INTO libros (titulo, autor, año) VALUES (?, ?, ?)\"\"\",libros_datos)\n",
        "con.commit()\n"
      ],
      "metadata": {
        "id": "YbuH1E50EWKT"
      },
      "execution_count": 5,
      "outputs": []
    },
    {
      "cell_type": "code",
      "source": [
        "cursor.execute(\"SELECT * FROM libros\")\n",
        "libros = cursor.fetchall()\n",
        "for libro in libros:\n",
        "  print(libros)"
      ],
      "metadata": {
        "colab": {
          "base_uri": "https://localhost:8080/"
        },
        "id": "ilImbH1hGOW5",
        "outputId": "ef957fba-3b8c-42f9-bf09-8d61c9459fa1"
      },
      "execution_count": 6,
      "outputs": [
        {
          "output_type": "stream",
          "name": "stdout",
          "text": [
            "[(1, 'Harry Potter', 'J.K.R', 1997), (2, 'The Hobbit', 'Tolkien', 1937), (3, 'Better than the Movies', 'Lynn Painter', 2021), (4, 'La Sombra de Viento', 'Carlos Ruiz Zafón', 2001)]\n",
            "[(1, 'Harry Potter', 'J.K.R', 1997), (2, 'The Hobbit', 'Tolkien', 1937), (3, 'Better than the Movies', 'Lynn Painter', 2021), (4, 'La Sombra de Viento', 'Carlos Ruiz Zafón', 2001)]\n",
            "[(1, 'Harry Potter', 'J.K.R', 1997), (2, 'The Hobbit', 'Tolkien', 1937), (3, 'Better than the Movies', 'Lynn Painter', 2021), (4, 'La Sombra de Viento', 'Carlos Ruiz Zafón', 2001)]\n",
            "[(1, 'Harry Potter', 'J.K.R', 1997), (2, 'The Hobbit', 'Tolkien', 1937), (3, 'Better than the Movies', 'Lynn Painter', 2021), (4, 'La Sombra de Viento', 'Carlos Ruiz Zafón', 2001)]\n"
          ]
        }
      ]
    }
  ]
}