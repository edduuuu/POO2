{
  "nbformat": 4,
  "nbformat_minor": 0,
  "metadata": {
    "colab": {
      "provenance": [],
      "name": "sympy.ipynb"
    },
    "kernelspec": {
      "name": "python3",
      "display_name": "Python 3"
    },
    "language_info": {
      "name": "python"
    }
  },
  "cells": [
    {
      "cell_type": "code",
      "execution_count": null,
      "metadata": {
        "id": "jD75MBv0pKUN"
      },
      "outputs": [],
      "source": [
        "from sympy import *"
      ]
    },
    {
      "cell_type": "code",
      "source": [
        "#para asignar una variable\n",
        "x = Symbol (\"x\")\n",
        "\n",
        "x"
      ],
      "metadata": {
        "colab": {
          "base_uri": "https://localhost:8080/",
          "height": 38
        },
        "id": "engS1pprrKQc",
        "outputId": "74639643-c1d9-43d5-c2bc-d3a69c852706"
      },
      "execution_count": null,
      "outputs": [
        {
          "output_type": "execute_result",
          "data": {
            "text/plain": [
              "x"
            ],
            "text/latex": "$\\displaystyle x$"
          },
          "metadata": {},
          "execution_count": 8
        }
      ]
    },
    {
      "cell_type": "code",
      "source": [
        "a, b ,c = symbols(\"a,b,c\")"
      ],
      "metadata": {
        "id": "QcCEbpHgr_wt"
      },
      "execution_count": null,
      "outputs": []
    },
    {
      "cell_type": "code",
      "source": [
        "#tambien se puede poner para numeros imaginarios\"\n",
        "x = Symbol(\"x\", real=True)"
      ],
      "metadata": {
        "id": "PogJX33Ysj5a"
      },
      "execution_count": null,
      "outputs": []
    },
    {
      "cell_type": "code",
      "source": [
        "f1 = ((x+1)*(x+2)*(x+3))\n",
        "f1"
      ],
      "metadata": {
        "colab": {
          "base_uri": "https://localhost:8080/",
          "height": 38
        },
        "id": "FkKzXJqrtVlX",
        "outputId": "af1959d4-908e-4c35-e3da-3b46e9db3e78"
      },
      "execution_count": null,
      "outputs": [
        {
          "output_type": "execute_result",
          "data": {
            "text/plain": [
              "(x + 1)*(x + 2)*(x + 3)"
            ],
            "text/latex": "$\\displaystyle \\left(x + 1\\right) \\left(x + 2\\right) \\left(x + 3\\right)$"
          },
          "metadata": {},
          "execution_count": 17
        }
      ]
    },
    {
      "cell_type": "code",
      "source": [
        "#se usa para hacer expandir cualquier funcion\n",
        "expand(f1)\n"
      ],
      "metadata": {
        "colab": {
          "base_uri": "https://localhost:8080/",
          "height": 38
        },
        "id": "3CRJnbh1waHX",
        "outputId": "e884dcbd-acaf-4bb5-81db-068c0feca047"
      },
      "execution_count": null,
      "outputs": [
        {
          "output_type": "execute_result",
          "data": {
            "text/plain": [
              "x**3 + 6*x**2 + 11*x + 6"
            ],
            "text/latex": "$\\displaystyle x^{3} + 6 x^{2} + 11 x + 6$"
          },
          "metadata": {},
          "execution_count": 18
        }
      ]
    },
    {
      "cell_type": "code",
      "source": [
        "factor(x**3 + 6 * x**2 + 11*x +6)"
      ],
      "metadata": {
        "colab": {
          "base_uri": "https://localhost:8080/",
          "height": 38
        },
        "id": "Y0BnP3u9xFJ5",
        "outputId": "6d8b5924-c0d1-4f25-ca60-1880d0c74d2e"
      },
      "execution_count": null,
      "outputs": [
        {
          "output_type": "execute_result",
          "data": {
            "text/plain": [
              "(x + 1)*(x + 2)*(x + 3)"
            ],
            "text/latex": "$\\displaystyle \\left(x + 1\\right) \\left(x + 2\\right) \\left(x + 3\\right)$"
          },
          "metadata": {},
          "execution_count": 19
        }
      ]
    },
    {
      "cell_type": "code",
      "source": [
        "#se usa para simplificar cualquier funcion\n",
        "simplify((x+1)*(x+2)*(x+3))"
      ],
      "metadata": {
        "colab": {
          "base_uri": "https://localhost:8080/",
          "height": 38
        },
        "id": "qI2u5lgwxQI3",
        "outputId": "522f21a4-89f9-435b-d34c-c4dbd6fd8203"
      },
      "execution_count": null,
      "outputs": [
        {
          "output_type": "execute_result",
          "data": {
            "text/plain": [
              "(x + 1)*(x + 2)*(x + 3)"
            ],
            "text/latex": "$\\displaystyle \\left(x + 1\\right) \\left(x + 2\\right) \\left(x + 3\\right)$"
          },
          "metadata": {},
          "execution_count": 20
        }
      ]
    },
    {
      "cell_type": "code",
      "source": [
        "simplify (cos(x)/sin(x))"
      ],
      "metadata": {
        "colab": {
          "base_uri": "https://localhost:8080/",
          "height": 55
        },
        "id": "1HGeLgyxxbon",
        "outputId": "2a5019c2-c4f9-4453-dfc6-d0090b95472f"
      },
      "execution_count": null,
      "outputs": [
        {
          "output_type": "execute_result",
          "data": {
            "text/plain": [
              "1/tan(x)"
            ],
            "text/latex": "$\\displaystyle \\frac{1}{\\tan{\\left(x \\right)}}$"
          },
          "metadata": {},
          "execution_count": 23
        }
      ]
    },
    {
      "cell_type": "code",
      "source": [
        "apart(f1)"
      ],
      "metadata": {
        "colab": {
          "base_uri": "https://localhost:8080/",
          "height": 38
        },
        "id": "HKL1fArix-7-",
        "outputId": "e6929f04-17e3-41a8-ab7e-d2f81959f935"
      },
      "execution_count": null,
      "outputs": [
        {
          "output_type": "execute_result",
          "data": {
            "text/plain": [
              "x**3 + 6*x**2 + 11*x + 6"
            ],
            "text/latex": "$\\displaystyle x^{3} + 6 x^{2} + 11 x + 6$"
          },
          "metadata": {},
          "execution_count": 24
        }
      ]
    },
    {
      "cell_type": "code",
      "source": [
        "f = sin(5*x)+cos(7*x**2)\n",
        "f"
      ],
      "metadata": {
        "colab": {
          "base_uri": "https://localhost:8080/",
          "height": 38
        },
        "id": "0OiJhk1gysxZ",
        "outputId": "23c85285-1bd0-4400-97a5-b4ea718518be"
      },
      "execution_count": null,
      "outputs": [
        {
          "output_type": "execute_result",
          "data": {
            "text/plain": [
              "sin(5*x) + cos(7*x**2)"
            ],
            "text/latex": "$\\displaystyle \\sin{\\left(5 x \\right)} + \\cos{\\left(7 x^{2} \\right)}$"
          },
          "metadata": {},
          "execution_count": 26
        }
      ]
    },
    {
      "cell_type": "markdown",
      "source": [
        "derivadas"
      ],
      "metadata": {
        "id": "Jo9Sch0lz57a"
      }
    },
    {
      "cell_type": "code",
      "source": [
        "#el ultimo numero es para que te derive la primer, segeunda, tercera, etc...\n",
        "diff(f, x, 2)"
      ],
      "metadata": {
        "colab": {
          "base_uri": "https://localhost:8080/",
          "height": 38
        },
        "id": "FbaK9PfxzKfI",
        "outputId": "33ba013c-6c05-4ea2-c3f3-1169f9cd1347"
      },
      "execution_count": null,
      "outputs": [
        {
          "output_type": "execute_result",
          "data": {
            "text/plain": [
              "-(196*x**2*cos(7*x**2) + 25*sin(5*x) + 14*sin(7*x**2))"
            ],
            "text/latex": "$\\displaystyle - (196 x^{2} \\cos{\\left(7 x^{2} \\right)} + 25 \\sin{\\left(5 x \\right)} + 14 \\sin{\\left(7 x^{2} \\right)})$"
          },
          "metadata": {},
          "execution_count": 31
        }
      ]
    },
    {
      "cell_type": "markdown",
      "source": [
        "integrales"
      ],
      "metadata": {
        "id": "wDXHT2PW0oSR"
      }
    },
    {
      "cell_type": "code",
      "source": [
        "integrate(f,x)"
      ],
      "metadata": {
        "colab": {
          "base_uri": "https://localhost:8080/",
          "height": 73
        },
        "id": "g7A9-rv_0GZB",
        "outputId": "ae529d85-b48a-4f14-c309-36b4da076a90"
      },
      "execution_count": null,
      "outputs": [
        {
          "output_type": "execute_result",
          "data": {
            "text/plain": [
              "-cos(5*x)/5 + sqrt(14)*sqrt(pi)*fresnelc(sqrt(14)*x/sqrt(pi))*gamma(1/4)/(56*gamma(5/4))"
            ],
            "text/latex": "$\\displaystyle - \\frac{\\cos{\\left(5 x \\right)}}{5} + \\frac{\\sqrt{14} \\sqrt{\\pi} C\\left(\\frac{\\sqrt{14} x}{\\sqrt{\\pi}}\\right) \\Gamma\\left(\\frac{1}{4}\\right)}{56 \\Gamma\\left(\\frac{5}{4}\\right)}$"
          },
          "metadata": {},
          "execution_count": 36
        }
      ]
    },
    {
      "cell_type": "code",
      "source": [
        "integrate(f,(x,-1,1))"
      ],
      "metadata": {
        "colab": {
          "base_uri": "https://localhost:8080/",
          "height": 73
        },
        "id": "upRPAFWx0_Gw",
        "outputId": "5f0cbbfc-bbf6-44f5-d12f-e3f0d1c5b158"
      },
      "execution_count": null,
      "outputs": [
        {
          "output_type": "execute_result",
          "data": {
            "text/plain": [
              "sqrt(14)*sqrt(pi)*fresnelc(sqrt(14)/sqrt(pi))*gamma(1/4)/(28*gamma(5/4))"
            ],
            "text/latex": "$\\displaystyle \\frac{\\sqrt{14} \\sqrt{\\pi} C\\left(\\frac{\\sqrt{14}}{\\sqrt{\\pi}}\\right) \\Gamma\\left(\\frac{1}{4}\\right)}{28 \\Gamma\\left(\\frac{5}{4}\\right)}$"
          },
          "metadata": {},
          "execution_count": 37
        }
      ]
    },
    {
      "cell_type": "code",
      "source": [
        "integrate(ln(x), (x,1,oo))"
      ],
      "metadata": {
        "colab": {
          "base_uri": "https://localhost:8080/",
          "height": 37
        },
        "id": "tm4PO4W11lF6",
        "outputId": "a09c092f-b6dd-401d-ddcf-ae6a886eed36"
      },
      "execution_count": null,
      "outputs": [
        {
          "output_type": "execute_result",
          "data": {
            "text/plain": [
              "oo"
            ],
            "text/latex": "$\\displaystyle \\infty$"
          },
          "metadata": {},
          "execution_count": 38
        }
      ]
    },
    {
      "cell_type": "code",
      "source": [
        "integrate(exp(-x**2), (x,-oo, oo))"
      ],
      "metadata": {
        "colab": {
          "base_uri": "https://localhost:8080/",
          "height": 37
        },
        "id": "_rrS6TkO19bp",
        "outputId": "4b21c89f-3e6f-4622-b2b9-ad218d749620"
      },
      "execution_count": null,
      "outputs": [
        {
          "output_type": "execute_result",
          "data": {
            "text/plain": [
              "sqrt(pi)"
            ],
            "text/latex": "$\\displaystyle \\sqrt{\\pi}$"
          },
          "metadata": {},
          "execution_count": 39
        }
      ]
    }
  ]
}